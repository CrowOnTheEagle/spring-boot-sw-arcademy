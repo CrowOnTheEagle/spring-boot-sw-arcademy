{
 "cells": [
  {
   "cell_type": "code",
   "execution_count": 10,
   "id": "79f3f9b3",
   "metadata": {},
   "outputs": [
    {
     "name": "stdout",
     "output_type": "stream",
     "text": [
      "numbers of bream length data = 35\n",
      "numbers of bream weight data = 35\n",
      "numbers of smelt length data = 14\n",
      "numbers of smelt weight data = 14\n"
     ]
    }
   ],
   "source": [
    "## 도미 데이터\n",
    "## 이진 분류(binary classification)\n",
    "bream_length = [25.4, 26.3, 26.5, 29.0, 29.0, 29.7, 29.7,\n",
    "                30.0, 30.0, 30.7, 31.0, 31.0, 31.5, 32.0,\n",
    "                32.0, 32.0, 33.0, 33.0, 33.5, 33.5, 34.0,\n",
    "                34.0, 34.5, 35.0, 35.0, 35.0, 35.0, 36.0,\n",
    "                36.0, 37.0, 38.5, 38.5, 39.5, 41.0, 41.0]\n",
    "bream_weight = [242.0, 290.0, 340.0, 363.0, 430.0, 450.0, 500.0,\n",
    "                390.0, 450.0, 500.0, 475.0, 500.0, 500.0, 340.0,\n",
    "                600.0, 600.0, 700.0, 700.0, 610.0, 650.0, 575.0,\n",
    "                685.0, 620.0, 680.0, 700.0, 725.0, 720.0, 714.0,\n",
    "                850.0, 1000.0, 920.0, 955.0, 925.0, 975.0, 950.0]\n",
    "\n",
    "## 빙어 데이터\n",
    "smelt_length = [9.8, 10.5, 10.6, 11.0, 11.2, 11.3, 11.8, 11.8, 12.0, 12.2, 12.4, 13.0, 14.3, 15.0]\n",
    "smelt_weight = [6.7, 7.5, 7.0, 9.7, 9.8, 8.7, 10.0, 9.9, 9.8, 12.2, 13.4, 12.2, 19.7, 19.9]\n",
    "\n",
    "print(f\"numbers of bream length data = {len(bream_length)}\")\n",
    "print(f\"numbers of bream weight data = {len(bream_weight)}\")\n",
    "print(f\"numbers of smelt length data = {len(smelt_length)}\")\n",
    "print(f\"numbers of smelt weight data = {len(smelt_weight)}\")"
   ]
  },
  {
   "cell_type": "code",
   "execution_count": null,
   "id": "207e93b4",
   "metadata": {},
   "outputs": [
    {
     "data": {
      "image/png": "[encoded data removed]",
      "text/plain": [
       "<Figure size 640x480 with 1 Axes>"
      ]
     },
     "metadata": {},
     "output_type": "display_data"
    }
   ],
   "source": [
    "import matplotlib.pyplot as plt\n",
    "from matplotlib import font_manager, rc\n",
    "\n",
    "## x축 좌표 리스트, y축 좌표 리스트\n",
    "plt.scatter(bream_length, bream_weight)\n",
    "## 여러번 호출 시 색깔로 구분해서 보여줌\n",
    "plt.scatter(smelt_length, smelt_weight)\n",
    "## marker로 출력할 모양 지정\n",
    "plt.scatter(30, 600, marker='^')\n",
    "## x축 라벨\n",
    "plt.xlabel(\"길이(Length)\")\n",
    "## y축 라벨\n",
    "plt.ylabel(\"무게(Weight)\")\n",
    "## 한글 출력 적용(안하면 폰트 없다는 오류 뜸)\n",
    "rc('font', family = font_manager.FontProperties(fname = \"C:/Windows/Fonts/malgun.ttf\").get_name())"
   ]
  },
  {
   "cell_type": "code",
   "execution_count": 16,
   "id": "76fc022f",
   "metadata": {},
   "outputs": [
    {
     "name": "stdout",
     "output_type": "stream",
     "text": [
      "도미 + 빙어 배열 길이(length of brea and smelt array) = 49\n",
      "[(25.4, 242.0), (26.3, 290.0), (26.5, 340.0), (29.0, 363.0), (29.0, 430.0), (29.7, 450.0), (29.7, 500.0), (30.0, 390.0), (30.0, 450.0), (30.7, 500.0), (31.0, 475.0), (31.0, 500.0), (31.5, 500.0), (32.0, 340.0), (32.0, 600.0), (32.0, 600.0), (33.0, 700.0), (33.0, 700.0), (33.5, 610.0), (33.5, 650.0), (34.0, 575.0), (34.0, 685.0), (34.5, 620.0), (35.0, 680.0), (35.0, 700.0), (35.0, 725.0), (35.0, 720.0), (36.0, 714.0), (36.0, 850.0), (37.0, 1000.0), (38.5, 920.0), (38.5, 955.0), (39.5, 925.0), (41.0, 975.0), (41.0, 950.0), (9.8, 6.7), (10.5, 7.5), (10.6, 7.0), (11.0, 9.7), (11.2, 9.8), (11.3, 8.7), (11.8, 10.0), (11.8, 9.9), (12.0, 9.8), (12.2, 12.2), (12.4, 13.4), (13.0, 12.2), (14.3, 19.7), (15.0, 19.9)]\n",
      "[1, 1, 1, 1, 1, 1, 1, 1, 1, 1, 1, 1, 1, 1, 1, 1, 1, 1, 1, 1, 1, 1, 1, 1, 1, 1, 1, 1, 1, 1, 1, 1, 1, 1, 1, 0, 0, 0, 0, 0, 0, 0, 0, 0, 0, 0, 0, 0, 0]\n"
     ]
    }
   ],
   "source": [
    "length = bream_length + smelt_length\n",
    "weight = bream_weight + smelt_weight\n",
    "print(f\"도미 + 빙어 배열 길이(length of brea and smelt array) = {len(length)}\")\n",
    "\n",
    "## length와 weight를 합침\n",
    "fish_data = [x for x in zip(length, weight)]\n",
    "print(fish_data)\n",
    "\n",
    "## 결과값용 물고기의 종류를 설정\n",
    "## 1 - 도미, 0 - 빙어\n",
    "fish_target = [1] * 35 + [0] * 14\n",
    "print(fish_target)"
   ]
  },
  {
   "cell_type": "code",
   "execution_count": null,
   "id": "59427b57",
   "metadata": {},
   "outputs": [
    {
     "name": "stdout",
     "output_type": "stream",
     "text": [
      "1.0\n",
      "[1]\n"
     ]
    }
   ],
   "source": [
    "from sklearn.neighbors import KNeighborsClassifier\n",
    "## KNN 알고리즘 객체 생성\n",
    "## 생성자 인자로 이웃의 개수를 지정할 수 있음\n",
    "kn = KNeighborsClassifier()\n",
    "\n",
    "## 훈련(피팅)\n",
    "## 문제지, 정답지 순\n",
    "kn.fit(fish_data, fish_target)\n",
    "\n",
    "## 점수 출력\n",
    "## 1점 만점\n",
    "점수 = kn.score(fish_data, fish_target)\n",
    "print(점수)\n",
    "\n",
    "## 예측\n",
    "predicts = kn.predict([[30, 600]])\n",
    "## ndarray로 반환됨\n",
    "print(predicts)"
   ]
  }
 ],
 "metadata": {
  "kernelspec": {
   "display_name": "blizkrig553-env",
   "language": "python",
   "name": "python3"
  },
  "language_info": {
   "codemirror_mode": {
    "name": "ipython",
    "version": 3
   },
   "file_extension": ".py",
   "mimetype": "text/x-python",
   "name": "python",
   "nbconvert_exporter": "python",
   "pygments_lexer": "ipython3",
   "version": "3.13.5"
  }
 },
 "nbformat": 4,
 "nbformat_minor": 5
}
